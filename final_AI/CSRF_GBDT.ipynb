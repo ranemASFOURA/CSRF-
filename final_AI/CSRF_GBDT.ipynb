{
  "cells": [
    {
      "cell_type": "code",
      "execution_count": 14,
      "metadata": {
        "id": "idANcIgGSn1f"
      },
      "outputs": [],
      "source": [
        "import numpy as np # linear algebra\n",
        "import pandas as pd # data processing, CSV file I/O (e.g. pd.read_csv)\n",
        "import matplotlib.pyplot as plt # for data visualization\n",
        "import seaborn as sns # for statistical data visualization\n",
        "%matplotlib inline\n",
        "from sklearn.model_selection import train_test_split, GridSearchCV\n",
        "from sklearn.metrics import accuracy_score, classification_report, confusion_matrix, make_scorer, precision_score, roc_curve, auc,roc_auc_score\n",
        "import itertools\n",
        "from sklearn.ensemble import GradientBoostingClassifier\n",
        "from imblearn.over_sampling import SMOTE\n",
        "from scipy.stats import randint, uniform"
      ]
    },
    {
      "cell_type": "code",
      "execution_count": 15,
      "metadata": {
        "id": "Dc9LFPCUS2Kk"
      },
      "outputs": [],
      "source": [
        "#read dataset\n",
        "data='/content/CSRF_dataset.csv'\n",
        "df= pd.read_csv(data)"
      ]
    },
    {
      "cell_type": "code",
      "execution_count": 16,
      "metadata": {
        "id": "5pvyIo6OS-Jg"
      },
      "outputs": [],
      "source": [
        "X = df.drop(['flag'], axis=1)\n",
        "y = df['flag']"
      ]
    },
    {
      "cell_type": "code",
      "execution_count": 17,
      "metadata": {
        "id": "kDOOAdALTAUb"
      },
      "outputs": [],
      "source": [
        "X_train,X_test,y_train,y_test = train_test_split(X,y,test_size=0.2,random_state=42)"
      ]
    },
    {
      "cell_type": "code",
      "execution_count": 18,
      "metadata": {
        "id": "u5LxMWJWTCKt"
      },
      "outputs": [],
      "source": [
        "smote = SMOTE(random_state=42)\n",
        "X_train_res, y_train_res = smote.fit_resample(X_train, y_train)"
      ]
    },
    {
      "cell_type": "code",
      "execution_count": 19,
      "metadata": {
        "colab": {
          "base_uri": "https://localhost:8080/"
        },
        "id": "yaycR_UxTE0W",
        "outputId": "8a7c66ec-8f9b-4607-ce03-d5dc19e4e449"
      },
      "outputs": [
        {
          "output_type": "stream",
          "name": "stdout",
          "text": [
            "Train set counts after SMOTE:\n",
            "flag\n",
            "0    3967\n",
            "1    3967\n",
            "Name: count, dtype: int64\n"
          ]
        }
      ],
      "source": [
        "print(\"Train set counts after SMOTE:\")\n",
        "print(y_train_res.value_counts())"
      ]
    },
    {
      "cell_type": "code",
      "execution_count": 20,
      "metadata": {
        "id": "1IipTRcpTGvb"
      },
      "outputs": [],
      "source": [
        "y_train_pred, y_test_pred = None, None\n",
        "def evaluate_model (model) :\n",
        "    global y_train_pred, y_test_pred\n",
        "    y_train_pred = model.predict(X_train_res)\n",
        "    y_test_pred = model.predict(X_test)"
      ]
    },
    {
      "cell_type": "code",
      "execution_count": 21,
      "metadata": {
        "id": "siqkj16QTJqW"
      },
      "outputs": [],
      "source": [
        "def show_confusion_matrix ():\n",
        "    cm_train = confusion_matrix(y_train_res, y_train_pred)\n",
        "    cm_test = confusion_matrix(y_test, y_test_pred)\n",
        "\n",
        "    # Plot confusion matrix\n",
        "    plt.figure(figsize=(12, 5))\n",
        "    plt.subplot(1, 2, 1)\n",
        "    plt.imshow(cm_train, interpolation='nearest', cmap=plt.cm.Blues)\n",
        "    plt.title('Confusion Matrix - Training')\n",
        "    plt.colorbar()\n",
        "    tick_marks = np.arange(len(np.unique(y_train)))\n",
        "    plt.xticks(tick_marks, np.unique(y_train))\n",
        "    plt.yticks(tick_marks, np.unique(y_train))\n",
        "    fmt = 'd'\n",
        "    thresh = cm_train.max() / 2.\n",
        "    for i, j in itertools.product(range(cm_train.shape[0]), range(cm_train.shape[1])):\n",
        "        plt.text(j, i, format(cm_train[i, j], fmt),\n",
        "                 horizontalalignment=\"center\",\n",
        "                 color=\"white\" if cm_train[i, j] > thresh else \"black\")\n",
        "    plt.xlabel('Predicted Label')\n",
        "    plt.ylabel('True Label')\n",
        "\n",
        "    plt.subplot(1, 2, 2)\n",
        "    plt.imshow(cm_test, interpolation='nearest', cmap=plt.cm.Blues)\n",
        "    plt.title('Confusion Matrix - Testing')\n",
        "    plt.colorbar()\n",
        "    tick_marks = np.arange(len(np.unique(y_test)))\n",
        "    plt.xticks(tick_marks, np.unique(y_test))\n",
        "    plt.yticks(tick_marks, np.unique(y_test))\n",
        "    fmt = 'd'\n",
        "    thresh = cm_test.max() / 2.\n",
        "    for i, j in itertools.product(range(cm_test.shape[0]), range(cm_test.shape[1])):\n",
        "        plt.text(j, i, format(cm_test[i, j], fmt),\n",
        "                 horizontalalignment=\"center\",\n",
        "                 color=\"white\" if cm_test[i, j] > thresh else \"black\")\n",
        "    plt.xlabel('Predicted Label')\n",
        "    plt.ylabel('True Label')\n",
        "\n",
        "    plt.tight_layout()\n",
        "    plt.show()"
      ]
    },
    {
      "cell_type": "code",
      "execution_count": 31,
      "metadata": {
        "id": "ffGOczrzTLpK"
      },
      "outputs": [],
      "source": [
        "from sklearn.metrics import classification_report, roc_auc_score\n",
        "\n",
        "def get_classification_report():\n",
        "    # Calculate predicted probabilities for training and testing sets\n",
        "    y_train_pred_proba = random_search.best_estimator_.predict_proba(X_train_res)[:, 1]\n",
        "    y_test_pred_proba = random_search.best_estimator_.predict_proba(X_test)[:, 1]\n",
        "\n",
        "    # Convert predicted probabilities to binary predictions for classification report\n",
        "    y_train_pred = (y_train_pred_proba >= 0.5).astype(int)\n",
        "    y_test_pred = (y_test_pred_proba >= 0.5).astype(int)\n",
        "\n",
        "    # Calculate ROC AUC score for training and testing\n",
        "    roc_auc_train = roc_auc_score(y_train_res, y_train_pred_proba)\n",
        "    roc_auc_test = roc_auc_score(y_test, y_test_pred_proba)\n",
        "\n",
        "    cr_train = classification_report(y_train_res, y_train_pred, output_dict=True)\n",
        "    cr_test = classification_report(y_test, y_test_pred, output_dict=True)\n",
        "\n",
        "    metrics = {\n",
        "        'Metric': ['Accuracy', 'Precision', 'Recall', 'F1-score', 'ROC AUC'],\n",
        "        'Train': [cr_train['accuracy'], cr_train['1']['precision'], cr_train['1']['recall'], cr_train['1']['f1-score'], roc_auc_train],\n",
        "        'Test': [cr_test['accuracy'], cr_test['1']['precision'], cr_test['1']['recall'], cr_test['1']['f1-score'], roc_auc_test]\n",
        "    }\n",
        "    metrics_df = pd.DataFrame(metrics)\n",
        "    return metrics_df"
      ]
    },
    {
      "cell_type": "code",
      "execution_count": 23,
      "metadata": {
        "id": "G_fLdsrwTNdd"
      },
      "outputs": [],
      "source": [
        "def show_roc_curve(model):\n",
        "    # Plot ROC curve and calculate AUC\n",
        "    y_train_proba = model.predict_proba(X_train_res)[:,1]\n",
        "    y_test_proba = model.predict_proba(X_test)[:,1]\n",
        "\n",
        "    fpr_train, tpr_train, _ = roc_curve(y_train_res, y_train_proba)\n",
        "    fpr_test, tpr_test, _ = roc_curve(y_test, y_test_proba)\n",
        "\n",
        "    auc_train = auc(fpr_train, tpr_train)\n",
        "    auc_test = auc(fpr_test, tpr_test)\n",
        "\n",
        "    # Plot ROC curve\n",
        "    plt.figure(figsize=(8, 6))\n",
        "    plt.plot(fpr_train, tpr_train, label=f'Train AUC = {auc_train:.2f}')\n",
        "    plt.plot(fpr_test, tpr_test, label=f'Test AUC = {auc_test:.2f}')\n",
        "    plt.plot([0, 1], [0, 1], 'k--')\n",
        "    plt.xlabel('False Positive Rate')\n",
        "    plt.ylabel('True Positive Rate')\n",
        "    plt.title('ROC Curve')\n",
        "    plt.legend()\n",
        "    plt.show()"
      ]
    },
    {
      "cell_type": "code",
      "execution_count": 24,
      "metadata": {
        "id": "-iY442jcTPXy"
      },
      "outputs": [],
      "source": [
        "roc_auc_scorer = make_scorer(roc_auc_score, average='weighted', multi_class='ovr')"
      ]
    },
    {
      "cell_type": "markdown",
      "source": [
        "---\n",
        "# Gradient Boosted Decision\n",
        "\n",
        "### Most important hyperparameters that we have to deal with :\n",
        "#### 1. n_estimators: Number of trees in the ensemble. Higher values may lead to overfitting\n",
        "#### 2. learning_rate: Controls the contribution of each tree; lower values improve generalization but require more trees\n",
        "#### 3. max_depth: Maximum depth of trees; controls overfitting. Higher values capture complex patterns but may overfit.\n",
        "#### 4. min_samples_leaf: Minimum allowed number of samples in each leaf node (Lower values => Higher overfitting risk)\n",
        "#### 5. min_samples_split: Minimum samples required to split a node; higher values prevent learning overly specific patterns.\n",
        "#### 6. subsample: Fraction of samples used for fitting each tree; values <1 reduce variance, improving robustness\n",
        "#### 7. max_features: Number of features considered for splits; sqrt or log2 often work well. Controls model complexity"
      ],
      "metadata": {
        "id": "ujTGDTMFX_q8"
      }
    },
    {
      "cell_type": "code",
      "execution_count": 27,
      "metadata": {
        "colab": {
          "base_uri": "https://localhost:8080/"
        },
        "id": "KfYEuHGqTaIW",
        "outputId": "7d06a173-1d1c-4319-b5be-a65833ac3b82"
      },
      "outputs": [
        {
          "output_type": "stream",
          "name": "stdout",
          "text": [
            "Best parameters: {'subsample': 1.0, 'n_estimators': 150, 'min_samples_split': 9, 'min_samples_leaf': 2, 'max_features': 'sqrt', 'max_depth': 5, 'learning_rate': 0.2}\n",
            "ROC AUC score on training set:  0.9789117505516771\n",
            "ROC AUC score on testing set:  0.9379670089578327\n"
          ]
        }
      ],
      "source": [
        "from sklearn.model_selection import RandomizedSearchCV\n",
        "from sklearn.ensemble import GradientBoostingClassifier\n",
        "from sklearn.metrics import roc_auc_score\n",
        "import numpy as np\n",
        "\n",
        "# Define parameters for random search\n",
        "parameters = {\n",
        "    'n_estimators': [100, 150, 180, 200],\n",
        "    'learning_rate': [0.01, 0.1, 0.2],\n",
        "    'max_depth': [3, 4, 5],\n",
        "    'min_samples_split': [4, 9, 12, 20],\n",
        "    'min_samples_leaf': [2, 5, 10, 15, 18],\n",
        "    'subsample': [0.5, 0.8, 0.9, 1.0],\n",
        "    'max_features': [None, 'sqrt', 'log2', 0.5]\n",
        "}\n",
        "\n",
        "# Initialize the Gradient Boosting Classifier\n",
        "gbdt = GradientBoostingClassifier()\n",
        "\n",
        "# Initialize RandomizedSearchCV\n",
        "random_search = RandomizedSearchCV(\n",
        "    gbdt,\n",
        "    parameters,\n",
        "    n_iter=50,  # Number of random combinations to try\n",
        "    cv=5,\n",
        "    scoring='roc_auc',\n",
        "    n_jobs=-1,\n",
        "    random_state=42\n",
        ")\n",
        "\n",
        "# Fit the model\n",
        "random_search.fit(X_train, y_train)\n",
        "\n",
        "# Best parameters found\n",
        "print(f'Best parameters: {random_search.best_params_}')\n",
        "\n",
        "# Calculate ROC AUC on training set\n",
        "y_pred_train = random_search.best_estimator_.predict_proba(X_train)[:, 1]\n",
        "roc_auc_train = roc_auc_score(y_train, y_pred_train)\n",
        "print(\"ROC AUC score on training set: \", roc_auc_train)\n",
        "\n",
        "# Calculate ROC AUC on testing set\n",
        "y_pred_test = random_search.best_estimator_.predict_proba(X_test)[:, 1]\n",
        "roc_auc_test = roc_auc_score(y_test, y_pred_test)\n",
        "print(\"ROC AUC score on testing set: \", roc_auc_test)\n"
      ]
    },
    {
      "cell_type": "code",
      "source": [
        "from sklearn.model_selection import RandomizedSearchCV\n",
        "from sklearn.ensemble import GradientBoostingClassifier\n",
        "from sklearn.metrics import roc_auc_score\n",
        "import numpy as np\n",
        "\n",
        "# Define parameters for random search\n",
        "parameters = {\n",
        "    'n_estimators': [100, 150, 180, 200],\n",
        "    'learning_rate': [0.01, 0.1, 0.2],\n",
        "    'max_depth': [3, 4, 5],\n",
        "    'min_samples_split': [4, 9, 12, 20],\n",
        "    'min_samples_leaf': [2, 5, 10, 15, 18],\n",
        "    'subsample': [0.5, 0.8, 0.9, 1.0],\n",
        "    'max_features': [None, 'sqrt', 'log2', 0.5]\n",
        "}\n",
        "\n",
        "# Initialize the Gradient Boosting Classifier\n",
        "gbdt = GradientBoostingClassifier()\n",
        "\n",
        "# Initialize RandomizedSearchCV\n",
        "random_search = RandomizedSearchCV(\n",
        "    gbdt,\n",
        "    parameters,\n",
        "    n_iter=100,  # Number of random combinations to try\n",
        "    cv=5,\n",
        "    scoring='roc_auc',\n",
        "    n_jobs=-1,\n",
        "    random_state=42\n",
        ")\n",
        "\n",
        "# Fit the model\n",
        "random_search.fit(X_train, y_train)\n",
        "\n",
        "# Best parameters found\n",
        "print(f'Best parameters: {random_search.best_params_}')\n",
        "\n",
        "# Calculate ROC AUC on training set\n",
        "y_pred_train = random_search.best_estimator_.predict_proba(X_train)[:, 1]\n",
        "roc_auc_train = roc_auc_score(y_train, y_pred_train)\n",
        "print(\"ROC AUC score on training set: \", roc_auc_train)\n",
        "\n",
        "# Calculate ROC AUC on testing set\n",
        "y_pred_test = random_search.best_estimator_.predict_proba(X_test)[:, 1]\n",
        "roc_auc_test = roc_auc_score(y_test, y_pred_test)\n",
        "print(\"ROC AUC score on testing set: \", roc_auc_test)\n"
      ],
      "metadata": {
        "colab": {
          "base_uri": "https://localhost:8080/"
        },
        "id": "A0Dn7XRjH_yQ",
        "outputId": "b716d528-9eef-4956-dc2a-1d9dbfd483c5"
      },
      "execution_count": 28,
      "outputs": [
        {
          "output_type": "stream",
          "name": "stdout",
          "text": [
            "Best parameters: {'subsample': 1.0, 'n_estimators': 150, 'min_samples_split': 9, 'min_samples_leaf': 2, 'max_features': 'sqrt', 'max_depth': 5, 'learning_rate': 0.2}\n",
            "ROC AUC score on training set:  0.9788814201116429\n",
            "ROC AUC score on testing set:  0.9413152720122351\n"
          ]
        }
      ]
    },
    {
      "cell_type": "code",
      "source": [
        "from sklearn.model_selection import RandomizedSearchCV\n",
        "from sklearn.ensemble import GradientBoostingClassifier\n",
        "from sklearn.metrics import roc_auc_score\n",
        "import numpy as np\n",
        "\n",
        "# Define parameters for random search\n",
        "parameters = {\n",
        "    'n_estimators': [100, 150, 180, 200],\n",
        "    'learning_rate': [0.01, 0.1, 0.2],\n",
        "    'max_depth': [3, 4, 5],\n",
        "    'min_samples_split': [4, 9, 12, 20],\n",
        "    'min_samples_leaf': [2, 5, 10, 15, 18],\n",
        "    'subsample': [0.5, 0.8, 0.9, 1.0],\n",
        "    'max_features': [None, 'sqrt', 'log2', 0.5]\n",
        "}\n",
        "\n",
        "# Initialize the Gradient Boosting Classifier\n",
        "gbdt = GradientBoostingClassifier()\n",
        "\n",
        "# Initialize RandomizedSearchCV\n",
        "random_search = RandomizedSearchCV(\n",
        "    gbdt,\n",
        "    parameters,\n",
        "    n_iter=1000,  # Number of random combinations to try\n",
        "    cv=5,\n",
        "    scoring='roc_auc',\n",
        "    n_jobs=-1,\n",
        "    random_state=42\n",
        ")\n",
        "\n",
        "# Fit the model\n",
        "random_search.fit(X_train, y_train)\n",
        "\n",
        "# Best parameters found\n",
        "print(f'Best parameters: {random_search.best_params_}')\n",
        "\n",
        "# Calculate ROC AUC on training set\n",
        "y_pred_train = random_search.best_estimator_.predict_proba(X_train)[:, 1]\n",
        "roc_auc_train = roc_auc_score(y_train, y_pred_train)\n",
        "print(\"ROC AUC score on training set: \", roc_auc_train)\n",
        "\n",
        "# Calculate ROC AUC on testing set\n",
        "y_pred_test = random_search.best_estimator_.predict_proba(X_test)[:, 1]\n",
        "roc_auc_test = roc_auc_score(y_test, y_pred_test)\n",
        "print(\"ROC AUC score on testing set: \", roc_auc_test)\n"
      ],
      "metadata": {
        "colab": {
          "base_uri": "https://localhost:8080/"
        },
        "id": "ftkFgezoQYWQ",
        "outputId": "73ae7f4c-137a-41f9-8cf3-eaccd8a5bdc2"
      },
      "execution_count": 45,
      "outputs": [
        {
          "output_type": "stream",
          "name": "stdout",
          "text": [
            "Best parameters: {'subsample': 0.9, 'n_estimators': 200, 'min_samples_split': 4, 'min_samples_leaf': 5, 'max_features': 'sqrt', 'max_depth': 5, 'learning_rate': 0.1}\n",
            "ROC AUC score on training set:  0.9660903995395165\n",
            "ROC AUC score on testing set:  0.9401327288616997\n"
          ]
        }
      ]
    },
    {
      "cell_type": "code",
      "execution_count": 46,
      "metadata": {
        "id": "qjazizzdThNm"
      },
      "outputs": [],
      "source": [
        "gbdt_model = random_search.best_estimator_\n",
        "evaluate_model(gbdt_model)"
      ]
    },
    {
      "cell_type": "code",
      "source": [
        "get_classification_report()"
      ],
      "metadata": {
        "colab": {
          "base_uri": "https://localhost:8080/",
          "height": 206
        },
        "id": "we9dEwboQCFD",
        "outputId": "17873e8b-ff6f-4915-cc3f-675624b68327"
      },
      "execution_count": 47,
      "outputs": [
        {
          "output_type": "execute_result",
          "data": {
            "text/plain": [
              "      Metric     Train      Test\n",
              "0   Accuracy  0.669650  0.921968\n",
              "1  Precision  0.955345  0.802632\n",
              "2     Recall  0.355936  0.663043\n",
              "3   F1-score  0.518641  0.726190\n",
              "4    ROC AUC  0.929814  0.940133"
            ],
            "text/html": [
              "\n",
              "  <div id=\"df-8caddc19-4897-4895-99f1-3059c6a129c3\" class=\"colab-df-container\">\n",
              "    <div>\n",
              "<style scoped>\n",
              "    .dataframe tbody tr th:only-of-type {\n",
              "        vertical-align: middle;\n",
              "    }\n",
              "\n",
              "    .dataframe tbody tr th {\n",
              "        vertical-align: top;\n",
              "    }\n",
              "\n",
              "    .dataframe thead th {\n",
              "        text-align: right;\n",
              "    }\n",
              "</style>\n",
              "<table border=\"1\" class=\"dataframe\">\n",
              "  <thead>\n",
              "    <tr style=\"text-align: right;\">\n",
              "      <th></th>\n",
              "      <th>Metric</th>\n",
              "      <th>Train</th>\n",
              "      <th>Test</th>\n",
              "    </tr>\n",
              "  </thead>\n",
              "  <tbody>\n",
              "    <tr>\n",
              "      <th>0</th>\n",
              "      <td>Accuracy</td>\n",
              "      <td>0.669650</td>\n",
              "      <td>0.921968</td>\n",
              "    </tr>\n",
              "    <tr>\n",
              "      <th>1</th>\n",
              "      <td>Precision</td>\n",
              "      <td>0.955345</td>\n",
              "      <td>0.802632</td>\n",
              "    </tr>\n",
              "    <tr>\n",
              "      <th>2</th>\n",
              "      <td>Recall</td>\n",
              "      <td>0.355936</td>\n",
              "      <td>0.663043</td>\n",
              "    </tr>\n",
              "    <tr>\n",
              "      <th>3</th>\n",
              "      <td>F1-score</td>\n",
              "      <td>0.518641</td>\n",
              "      <td>0.726190</td>\n",
              "    </tr>\n",
              "    <tr>\n",
              "      <th>4</th>\n",
              "      <td>ROC AUC</td>\n",
              "      <td>0.929814</td>\n",
              "      <td>0.940133</td>\n",
              "    </tr>\n",
              "  </tbody>\n",
              "</table>\n",
              "</div>\n",
              "    <div class=\"colab-df-buttons\">\n",
              "\n",
              "  <div class=\"colab-df-container\">\n",
              "    <button class=\"colab-df-convert\" onclick=\"convertToInteractive('df-8caddc19-4897-4895-99f1-3059c6a129c3')\"\n",
              "            title=\"Convert this dataframe to an interactive table.\"\n",
              "            style=\"display:none;\">\n",
              "\n",
              "  <svg xmlns=\"http://www.w3.org/2000/svg\" height=\"24px\" viewBox=\"0 -960 960 960\">\n",
              "    <path d=\"M120-120v-720h720v720H120Zm60-500h600v-160H180v160Zm220 220h160v-160H400v160Zm0 220h160v-160H400v160ZM180-400h160v-160H180v160Zm440 0h160v-160H620v160ZM180-180h160v-160H180v160Zm440 0h160v-160H620v160Z\"/>\n",
              "  </svg>\n",
              "    </button>\n",
              "\n",
              "  <style>\n",
              "    .colab-df-container {\n",
              "      display:flex;\n",
              "      gap: 12px;\n",
              "    }\n",
              "\n",
              "    .colab-df-convert {\n",
              "      background-color: #E8F0FE;\n",
              "      border: none;\n",
              "      border-radius: 50%;\n",
              "      cursor: pointer;\n",
              "      display: none;\n",
              "      fill: #1967D2;\n",
              "      height: 32px;\n",
              "      padding: 0 0 0 0;\n",
              "      width: 32px;\n",
              "    }\n",
              "\n",
              "    .colab-df-convert:hover {\n",
              "      background-color: #E2EBFA;\n",
              "      box-shadow: 0px 1px 2px rgba(60, 64, 67, 0.3), 0px 1px 3px 1px rgba(60, 64, 67, 0.15);\n",
              "      fill: #174EA6;\n",
              "    }\n",
              "\n",
              "    .colab-df-buttons div {\n",
              "      margin-bottom: 4px;\n",
              "    }\n",
              "\n",
              "    [theme=dark] .colab-df-convert {\n",
              "      background-color: #3B4455;\n",
              "      fill: #D2E3FC;\n",
              "    }\n",
              "\n",
              "    [theme=dark] .colab-df-convert:hover {\n",
              "      background-color: #434B5C;\n",
              "      box-shadow: 0px 1px 3px 1px rgba(0, 0, 0, 0.15);\n",
              "      filter: drop-shadow(0px 1px 2px rgba(0, 0, 0, 0.3));\n",
              "      fill: #FFFFFF;\n",
              "    }\n",
              "  </style>\n",
              "\n",
              "    <script>\n",
              "      const buttonEl =\n",
              "        document.querySelector('#df-8caddc19-4897-4895-99f1-3059c6a129c3 button.colab-df-convert');\n",
              "      buttonEl.style.display =\n",
              "        google.colab.kernel.accessAllowed ? 'block' : 'none';\n",
              "\n",
              "      async function convertToInteractive(key) {\n",
              "        const element = document.querySelector('#df-8caddc19-4897-4895-99f1-3059c6a129c3');\n",
              "        const dataTable =\n",
              "          await google.colab.kernel.invokeFunction('convertToInteractive',\n",
              "                                                    [key], {});\n",
              "        if (!dataTable) return;\n",
              "\n",
              "        const docLinkHtml = 'Like what you see? Visit the ' +\n",
              "          '<a target=\"_blank\" href=https://colab.research.google.com/notebooks/data_table.ipynb>data table notebook</a>'\n",
              "          + ' to learn more about interactive tables.';\n",
              "        element.innerHTML = '';\n",
              "        dataTable['output_type'] = 'display_data';\n",
              "        await google.colab.output.renderOutput(dataTable, element);\n",
              "        const docLink = document.createElement('div');\n",
              "        docLink.innerHTML = docLinkHtml;\n",
              "        element.appendChild(docLink);\n",
              "      }\n",
              "    </script>\n",
              "  </div>\n",
              "\n",
              "\n",
              "<div id=\"df-0146bc89-60ad-47b5-9f63-8d71905569bf\">\n",
              "  <button class=\"colab-df-quickchart\" onclick=\"quickchart('df-0146bc89-60ad-47b5-9f63-8d71905569bf')\"\n",
              "            title=\"Suggest charts\"\n",
              "            style=\"display:none;\">\n",
              "\n",
              "<svg xmlns=\"http://www.w3.org/2000/svg\" height=\"24px\"viewBox=\"0 0 24 24\"\n",
              "     width=\"24px\">\n",
              "    <g>\n",
              "        <path d=\"M19 3H5c-1.1 0-2 .9-2 2v14c0 1.1.9 2 2 2h14c1.1 0 2-.9 2-2V5c0-1.1-.9-2-2-2zM9 17H7v-7h2v7zm4 0h-2V7h2v10zm4 0h-2v-4h2v4z\"/>\n",
              "    </g>\n",
              "</svg>\n",
              "  </button>\n",
              "\n",
              "<style>\n",
              "  .colab-df-quickchart {\n",
              "      --bg-color: #E8F0FE;\n",
              "      --fill-color: #1967D2;\n",
              "      --hover-bg-color: #E2EBFA;\n",
              "      --hover-fill-color: #174EA6;\n",
              "      --disabled-fill-color: #AAA;\n",
              "      --disabled-bg-color: #DDD;\n",
              "  }\n",
              "\n",
              "  [theme=dark] .colab-df-quickchart {\n",
              "      --bg-color: #3B4455;\n",
              "      --fill-color: #D2E3FC;\n",
              "      --hover-bg-color: #434B5C;\n",
              "      --hover-fill-color: #FFFFFF;\n",
              "      --disabled-bg-color: #3B4455;\n",
              "      --disabled-fill-color: #666;\n",
              "  }\n",
              "\n",
              "  .colab-df-quickchart {\n",
              "    background-color: var(--bg-color);\n",
              "    border: none;\n",
              "    border-radius: 50%;\n",
              "    cursor: pointer;\n",
              "    display: none;\n",
              "    fill: var(--fill-color);\n",
              "    height: 32px;\n",
              "    padding: 0;\n",
              "    width: 32px;\n",
              "  }\n",
              "\n",
              "  .colab-df-quickchart:hover {\n",
              "    background-color: var(--hover-bg-color);\n",
              "    box-shadow: 0 1px 2px rgba(60, 64, 67, 0.3), 0 1px 3px 1px rgba(60, 64, 67, 0.15);\n",
              "    fill: var(--button-hover-fill-color);\n",
              "  }\n",
              "\n",
              "  .colab-df-quickchart-complete:disabled,\n",
              "  .colab-df-quickchart-complete:disabled:hover {\n",
              "    background-color: var(--disabled-bg-color);\n",
              "    fill: var(--disabled-fill-color);\n",
              "    box-shadow: none;\n",
              "  }\n",
              "\n",
              "  .colab-df-spinner {\n",
              "    border: 2px solid var(--fill-color);\n",
              "    border-color: transparent;\n",
              "    border-bottom-color: var(--fill-color);\n",
              "    animation:\n",
              "      spin 1s steps(1) infinite;\n",
              "  }\n",
              "\n",
              "  @keyframes spin {\n",
              "    0% {\n",
              "      border-color: transparent;\n",
              "      border-bottom-color: var(--fill-color);\n",
              "      border-left-color: var(--fill-color);\n",
              "    }\n",
              "    20% {\n",
              "      border-color: transparent;\n",
              "      border-left-color: var(--fill-color);\n",
              "      border-top-color: var(--fill-color);\n",
              "    }\n",
              "    30% {\n",
              "      border-color: transparent;\n",
              "      border-left-color: var(--fill-color);\n",
              "      border-top-color: var(--fill-color);\n",
              "      border-right-color: var(--fill-color);\n",
              "    }\n",
              "    40% {\n",
              "      border-color: transparent;\n",
              "      border-right-color: var(--fill-color);\n",
              "      border-top-color: var(--fill-color);\n",
              "    }\n",
              "    60% {\n",
              "      border-color: transparent;\n",
              "      border-right-color: var(--fill-color);\n",
              "    }\n",
              "    80% {\n",
              "      border-color: transparent;\n",
              "      border-right-color: var(--fill-color);\n",
              "      border-bottom-color: var(--fill-color);\n",
              "    }\n",
              "    90% {\n",
              "      border-color: transparent;\n",
              "      border-bottom-color: var(--fill-color);\n",
              "    }\n",
              "  }\n",
              "</style>\n",
              "\n",
              "  <script>\n",
              "    async function quickchart(key) {\n",
              "      const quickchartButtonEl =\n",
              "        document.querySelector('#' + key + ' button');\n",
              "      quickchartButtonEl.disabled = true;  // To prevent multiple clicks.\n",
              "      quickchartButtonEl.classList.add('colab-df-spinner');\n",
              "      try {\n",
              "        const charts = await google.colab.kernel.invokeFunction(\n",
              "            'suggestCharts', [key], {});\n",
              "      } catch (error) {\n",
              "        console.error('Error during call to suggestCharts:', error);\n",
              "      }\n",
              "      quickchartButtonEl.classList.remove('colab-df-spinner');\n",
              "      quickchartButtonEl.classList.add('colab-df-quickchart-complete');\n",
              "    }\n",
              "    (() => {\n",
              "      let quickchartButtonEl =\n",
              "        document.querySelector('#df-0146bc89-60ad-47b5-9f63-8d71905569bf button');\n",
              "      quickchartButtonEl.style.display =\n",
              "        google.colab.kernel.accessAllowed ? 'block' : 'none';\n",
              "    })();\n",
              "  </script>\n",
              "</div>\n",
              "\n",
              "    </div>\n",
              "  </div>\n"
            ],
            "application/vnd.google.colaboratory.intrinsic+json": {
              "type": "dataframe",
              "summary": "{\n  \"name\": \"get_classification_report()\",\n  \"rows\": 5,\n  \"fields\": [\n    {\n      \"column\": \"Metric\",\n      \"properties\": {\n        \"dtype\": \"string\",\n        \"num_unique_values\": 5,\n        \"samples\": [\n          \"Precision\",\n          \"ROC AUC\",\n          \"Recall\"\n        ],\n        \"semantic_type\": \"\",\n        \"description\": \"\"\n      }\n    },\n    {\n      \"column\": \"Train\",\n      \"properties\": {\n        \"dtype\": \"number\",\n        \"std\": 0.25942746259067,\n        \"min\": 0.3559364759263927,\n        \"max\": 0.9553450608930988,\n        \"num_unique_values\": 5,\n        \"samples\": [\n          0.9553450608930988,\n          0.9298143385984537,\n          0.3559364759263927\n        ],\n        \"semantic_type\": \"\",\n        \"description\": \"\"\n      }\n    },\n    {\n      \"column\": \"Test\",\n      \"properties\": {\n        \"dtype\": \"number\",\n        \"std\": 0.120563999386745,\n        \"min\": 0.6630434782608695,\n        \"max\": 0.9401327288616997,\n        \"num_unique_values\": 5,\n        \"samples\": [\n          0.8026315789473685,\n          0.9401327288616997,\n          0.6630434782608695\n        ],\n        \"semantic_type\": \"\",\n        \"description\": \"\"\n      }\n    }\n  ]\n}"
            }
          },
          "metadata": {},
          "execution_count": 47
        }
      ]
    },
    {
      "cell_type": "code",
      "source": [
        "show_confusion_matrix()"
      ],
      "metadata": {
        "colab": {
          "base_uri": "https://localhost:8080/",
          "height": 433
        },
        "id": "sfp_G4Q3h_3K",
        "outputId": "6ba84f28-f1e3-4bf9-b90d-f3aff521bdba"
      },
      "execution_count": 48,
      "outputs": [
        {
          "output_type": "display_data",
          "data": {
            "text/plain": [
              "<Figure size 1200x500 with 4 Axes>"
            ],
            "image/png": "[encoded data removed]"
          },
          "metadata": {}
        }
      ]
    },
    {
      "cell_type": "code",
      "source": [
        "show_roc_curve(gbdt_model)"
      ],
      "metadata": {
        "colab": {
          "base_uri": "https://localhost:8080/",
          "height": 564
        },
        "id": "fqV5QiymQDfo",
        "outputId": "ea1c7284-6b62-4b78-c935-1b2031b83d32"
      },
      "execution_count": 49,
      "outputs": [
        {
          "output_type": "display_data",
          "data": {
            "text/plain": [
              "<Figure size 800x600 with 1 Axes>"
            ],
            "image/png": "[encoded data removed]"
          },
          "metadata": {}
        }
      ]
    },
    {
      "cell_type": "code",
      "source": [
        "import pickle\n",
        "path = \"/content/sample_data/Model/gbdt_model.pkl\"\n",
        "\n",
        "# Save the model to a file\n",
        "with open(path, 'wb') as file:\n",
        "    pickle.dump(gbdt_model, file)"
      ],
      "metadata": {
        "id": "zuAbDuRPiCrO"
      },
      "execution_count": 50,
      "outputs": []
    },
    {
      "cell_type": "code",
      "source": [
        "import pickle\n",
        "\n",
        "record = \"3,0,0,0,150,0,0,0,0,0,0,0,0,0,0,0,0,0,0,0,0,0,0,0,0,0,0,0,0,0,0,0,0,0,0,0,0,0,0,0,0,0,0,0,0,0,0,0,0,1,0\"\n",
        "input_data = pd.DataFrame([list(map(float, record.split(',')))])\n",
        "input_data.columns = ['reqId', 'numOfParams', 'numOfIds', 'reqLen', 'createInPath',\n",
        "       'createInParams', 'addInPath', 'addInParams', 'setInPath',\n",
        "       'setInParams', 'deleteInPath', 'deleteInParams', 'updateInPath',\n",
        "       'updateInParams', 'removeInPath', 'removeInParams', 'friendInPath',\n",
        "       'friendInParams', 'settingInPath', 'settingInParams', 'passwordInPath',\n",
        "       'passwordInParams', 'tokenInPath', 'tokenInParams', 'changeInPath',\n",
        "       'changeInParams', 'actionInPath', 'actionInParams', 'payInPath',\n",
        "       'payInParams', 'loginInPath', 'loginInParams', 'logoutInPath',\n",
        "       'logoutInParams', 'postInPath', 'postInParams', 'commentInPath',\n",
        "       'commentInParams', 'followInPath', 'followInParams', 'subscribeInPath',\n",
        "       'subscribeInParams', 'signInPath', 'signInParams', 'viewInPath',\n",
        "       'viewInParams', 'isPUT', 'isDELETE', 'isPOST', 'isGET', 'isOPTIONS']\n",
        "# Load the model from the file\n",
        "with open(path, 'rb') as file:\n",
        "    loaded_model = pickle.load(file)\n",
        "\n",
        "# Now you can use the loaded model for predictions\n",
        "predictions = loaded_model.predict(input_data)\n",
        "print(\"Predictions: \", predictions)\n"
      ],
      "metadata": {
        "colab": {
          "base_uri": "https://localhost:8080/"
        },
        "id": "qjfO8KZGRg32",
        "outputId": "547a780c-5785-481d-8571-950929f9f1a4"
      },
      "execution_count": 51,
      "outputs": [
        {
          "output_type": "stream",
          "name": "stdout",
          "text": [
            "Predictions:  [0]\n"
          ]
        }
      ]
    },
    {
      "cell_type": "code",
      "source": [],
      "metadata": {
        "id": "U7tbn0sXmIFa"
      },
      "execution_count": null,
      "outputs": []
    }
  ],
  "metadata": {
    "colab": {
      "provenance": []
    },
    "kernelspec": {
      "display_name": "Python 3",
      "name": "python3"
    },
    "language_info": {
      "name": "python"
    }
  },
  "nbformat": 4,
  "nbformat_minor": 0
}